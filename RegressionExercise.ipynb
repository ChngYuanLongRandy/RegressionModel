{
 "cells": [
  {
   "cell_type": "markdown",
   "metadata": {},
   "source": [
    "As part of the tutorial, I will attempt to answer the following questions\n",
    "\n",
    "1. What is the shape of your data i.e. number of rows and columns?\n",
    "2. How many of the columns (or features) are numerical and how many are categorical?\n",
    "3. For the numerical columns, what does the distributions look like?\n",
    "4. What is the name of the column to be predicted?\n",
    "5. How are the various attributes correlated to the outcome variable?\n",
    "6. For the numerical columns, how many missing values are there for each column?\n",
    "7. For the categorical columns, how many missing values are there for each column?\n",
    "8. What visualizations can you use to highlight outliers in the data?"
   ]
  },
  {
   "cell_type": "code",
   "execution_count": null,
   "metadata": {},
   "outputs": [],
   "source": [
    "#import all necessary libraries\n",
    "import pandas as pd\n",
    "import numpy as np\n"
   ]
  }
 ],
 "metadata": {
  "kernelspec": {
   "display_name": "Python 3",
   "language": "python",
   "name": "python3"
  },
  "language_info": {
   "codemirror_mode": {
    "name": "ipython",
    "version": 3
   },
   "file_extension": ".py",
   "mimetype": "text/x-python",
   "name": "python",
   "nbconvert_exporter": "python",
   "pygments_lexer": "ipython3",
   "version": "3.8.5"
  }
 },
 "nbformat": 4,
 "nbformat_minor": 4
}
